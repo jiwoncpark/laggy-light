{
 "cells": [
  {
   "cell_type": "code",
   "execution_count": 1,
   "metadata": {},
   "outputs": [
    {
     "name": "stdout",
     "output_type": "stream",
     "text": [
      "[(u'agn_lc',), (u'sne_lc',), (u'obs_metadata',), (u'sprinkled_objects',)]\n",
      "uniqueId\n",
      "338704312844405    1282\n",
      "338704312845429    1282\n",
      "379834788999285    1282\n",
      "379834789000309    1282\n",
      "392001761914997    1282\n",
      "392001761916021    1282\n",
      "392001761917045    1282\n",
      "392001761918069    1282\n",
      "Name: obshistid, dtype: int64\n"
     ]
    }
   ],
   "source": [
    "from __future__ import absolute_import, division, print_function\n",
    "\n",
    "import sqlite3\n",
    "import numpy as np\n",
    "import pandas as pd\n",
    "pd.set_option('display.max_columns', None)\n",
    "import utils.pandas_utils as pd_utils\n",
    "import utils.units_utils as units\n",
    "%load_ext autoreload\n",
    "%autoreload 2\n",
    "\n",
    "# Read in trial_lc.db into Pandas df\n",
    "db = sqlite3.connect('trial_lc.db')\n",
    "\n",
    "cursor = db.cursor()\n",
    "cursor.execute(\"SELECT name FROM sqlite_master WHERE type='table';\")\n",
    "print(cursor.fetchall())\n",
    "cursor.close()\n",
    "\n",
    "df = {}\n",
    "for table in ['agn_lc', 'obs_metadata', 'sprinkled_objects',]:\n",
    "    df[table] =  pd.read_sql_query(\"SELECT * from %s\" %table, db)\n",
    "    #df[table].to_csv('%s.csv' %table, index_label='index')\n",
    "\n",
    "db.close()\n",
    "\n",
    "# Read in truth.sqlite into Pandas df\n",
    "\n",
    "truth = sqlite3.connect('truth.sqlite')\n",
    "#truth_cursor = truth.cursor()\n",
    "#truth_cursor.execute(\"SELECT name FROM sqlite_master WHERE type='table';\")\n",
    "#print(truth_cursor.fetchall())\n",
    "#truth_cursor.close()\n",
    "df['zpoint'] = pd.read_sql_query(\"SELECT * from 'zpoint'\", truth)\n",
    "truth.close()\n",
    "\n",
    "#####################\n",
    "# Preprocess zpoint #\n",
    "#####################\n",
    "\n",
    "# Unravel the dictionary inside the dictionary, of DRW parameters\n",
    "df['zpoint'] = pd_utils.dict_of_dict_to_columns(df['zpoint'], dict_column='varParamStr', dict_key='p')\n",
    "\n",
    "# Keep only the columns we care about\n",
    "keep_truth_cols = ['uniqueId', 'galaxy_id', 'redshift', 'magNorm', 'agn_tau', 't0Delay']\n",
    "keep_truth_cols += ['agn_sf%s' %b for b in 'ugrizy']\n",
    "df['zpoint'] = df['zpoint'][keep_truth_cols]\n",
    "\n",
    "# Keep only the rows with t0Delay values that are not NaN\n",
    "df['zpoint'] = df['zpoint'][df['zpoint']['t0Delay'].notnull()]\n",
    "\n",
    "# Rename some columns to avoid conflict later\n",
    "df['zpoint'].rename(columns={'redshift': 'truth_redshift', 'galaxy_id': 'truth_galaxy_id'}, inplace=True)\n",
    "\n",
    "#print(df['zpoint'].shape, df['agn_lc'].shape, df['obs_metadata'].shape)\n",
    "\n",
    "#print(df['zpoint'].columns, df['agn_lc'].columns, df['obs_metadata'].columns)\n",
    "\n",
    "#############\n",
    "# Pre-check #\n",
    "#############\n",
    "\n",
    "# Check that the uniqueIds in sprinkled_objects are the same as those in agn_lc\n",
    "assert pd_utils.a_relationship_b(a=df['sprinkled_objects'], b=df['agn_lc'], column='uniqueId', relationship='equal')\n",
    "\n",
    "# Check that the uniqueIds in sprinkled_objects are same as those in zpoint\n",
    "assert pd_utils.a_relationship_b(a=df['sprinkled_objects'], b=df['zpoint'], column='uniqueId', relationship='equal')\n",
    "\n",
    "# Check that the obshistids in agn_lc are in obs_metadata\n",
    "assert pd_utils.a_relationship_b(a=df['agn_lc'], b=df['obs_metadata'], column='obshistid', relationship='subset')\n",
    "\n",
    "# Check if number of observations for each light curve is even\n",
    "print(df['agn_lc'].groupby('uniqueId')['obshistid'].nunique())\n",
    "\n",
    "# Check that the lens galaxies in sprinkled_objects are in zpoint\n",
    "# Note: this will fail due to a bug in the zpoint table where the uniqueId-galaxy_id pairings are wrong.\n",
    "#assert pd_utils.a_subset_of_b(a=df['sprinkled_objects'], b=df['zpoint'], \n",
    "#                              column_a='galaxy_id', column_b='truth_galaxy_id')\n",
    "\n",
    "######################\n",
    "# Remove unnecessary #\n",
    "######################\n",
    "# Warning: Original dataframes are altered.\n",
    "\n",
    "# Remove obshistids that aren't in agn_lc, from obs_metadata\n",
    "lc_obshistids = df['agn_lc']['obshistid'].unique().copy()\n",
    "mask_obs = df['obs_metadata']['obshistid'].isin(lc_obshistids)\n",
    "df['obs_metadata'] = df['obs_metadata'].loc[mask_obs]\n",
    "\n",
    "# Total number of observed visits should equal the number of agn images times number of visits per agn image \n",
    "lc_uniqueIds = df['agn_lc']['uniqueId'].unique().copy()\n",
    "assert df['agn_lc'].shape[0] == df['obs_metadata'].shape[0]*len(lc_uniqueIds)\n",
    "\n",
    "# Merge agn_lc and sprinkled_objects\n",
    "sprinkled_lc = pd.merge(df['agn_lc'], df['sprinkled_objects'], on='uniqueId')\n",
    "\n",
    "# Merge this with zpoint\n",
    "sprinkled_lc_withtruth = pd.merge(sprinkled_lc, df['zpoint'], on='uniqueId')\n",
    "\n",
    "# Merge this with obs_metadata\n",
    "sprinkled_lc_obs_withtruth = pd.merge(sprinkled_lc_withtruth, df['obs_metadata'], on='obshistid')\n",
    "\n",
    "# Check shape\n",
    "assert np.array_equal(sprinkled_lc_obs_withtruth.shape,\n",
    "                      [len(lc_uniqueIds)*len(lc_obshistids),\n",
    "                       df['agn_lc'].shape[1] + df['sprinkled_objects'].shape[1] + df['zpoint'].shape[1] + df['obs_metadata'].shape[1] - 3])"
   ]
  },
  {
   "cell_type": "code",
   "execution_count": 2,
   "metadata": {},
   "outputs": [
    {
     "data": {
      "text/plain": [
       "Index([u'uniqueId', u'obshistid', u'mag', u'galaxy_id', u'ra', u'dec',\n",
       "       u'redshift', u'truth_galaxy_id', u'truth_redshift', u'magNorm',\n",
       "       u'agn_tau', u't0Delay', u'agn_sfu', u'agn_sfg', u'agn_sfr', u'agn_sfi',\n",
       "       u'agn_sfz', u'agn_sfy', u'mjd', u'filter', u'fiveSigmaDepth'],\n",
       "      dtype='object')"
      ]
     },
     "execution_count": 2,
     "metadata": {},
     "output_type": "execute_result"
    }
   ],
   "source": [
    "sprinkled_lc_obs_withtruth.columns"
   ]
  },
  {
   "cell_type": "code",
   "execution_count": 3,
   "metadata": {},
   "outputs": [],
   "source": [
    "# Convert magnitude units from mag to nMgy\n",
    "sprinkled_lc_obs_withtruth['flux'] = units.mag_to_flux(sprinkled_lc_obs_withtruth['mag'], to_unit='nMgy')"
   ]
  },
  {
   "cell_type": "code",
   "execution_count": 4,
   "metadata": {},
   "outputs": [
    {
     "data": {
      "text/plain": [
       "(array([ 32., 115., 109., 101., 113., 138., 130., 123.,  95.,  69.,  66.,\n",
       "         51.,  44.,  39.,  16.,  19.,  12.,   5.,   2.,   3.]),\n",
       " array([0.05172018, 0.06616599, 0.0806118 , 0.09505761, 0.10950341,\n",
       "        0.12394922, 0.13839503, 0.15284084, 0.16728664, 0.18173245,\n",
       "        0.19617826, 0.21062407, 0.22506987, 0.23951568, 0.25396149,\n",
       "        0.2684073 , 0.2828531 , 0.29729891, 0.31174472, 0.32619053,\n",
       "        0.34063633]),\n",
       " <a list of 20 Patch objects>)"
      ]
     },
     "execution_count": 4,
     "metadata": {},
     "output_type": "execute_result"
    },
    {
     "data": {
      "image/png": "[encoded data removed]",
      "text/plain": [
       "<matplotlib.figure.Figure at 0x7fbd8264cfd0>"
      ]
     },
     "metadata": {},
     "output_type": "display_data"
    }
   ],
   "source": [
    "import matplotlib.pyplot as plt\n",
    "%matplotlib inline\n",
    "plt.hist(sprinkled_lc_obs_withtruth.query(\"uniqueId==338704312844405\")['flux'].values, bins=20)"
   ]
  },
  {
   "cell_type": "code",
   "execution_count": 5,
   "metadata": {},
   "outputs": [
    {
     "name": "stdout",
     "output_type": "stream",
     "text": [
      "0.1118200931107296 0.08200784327050017\n"
     ]
    }
   ],
   "source": [
    "\n",
    "\n",
    "# To estimate mag_err,\n",
    "# As in p.5 of the TDC1 Results paper\n",
    "# 1. Find mean, std of the fiveSigmaDepth in nMgy\n",
    "df['obs_metadata']['sigma'] = units.mag_to_flux(df['obs_metadata']['fiveSigmaDepth'], to_unit='nMgy')\n",
    "sigma_nmgy = df['obs_metadata']['sigma'].values\n",
    "sigma_mean = np.mean(sigma_nmgy)\n",
    "sigma_std = np.std(sigma_nmgy)\n",
    "\n",
    "# 2. Get 0.2*mean, 0.2*std from #1\n",
    "noise_mean = sigma_mean*0.2\n",
    "noise_std = sigma_std*0.2\n",
    "print(noise_mean, noise_std)\n",
    "\n",
    "# 3. Sample from N(0.2*mean, 0.2*std)\n",
    "noise = pd_utils.gaussian_noise(mean=noise_mean, stdev=noise_std, shape=sprinkled_lc_obs_withtruth.shape[0])\n",
    "sprinkled_lc_obs_withtruth['flux_err'] = pd_utils.gaussian_noise(mean=noise_mean, stdev=noise_std, shape=sprinkled_lc_obs_withtruth.shape[0])\n",
    "sprinkled_lc_obs_withtruth.loc[sprinkled_lc_obs_withtruth['flux_err']< 0.001, 'flux_err'] = 0.001\n",
    "\n",
    "sprinkled_lc_obs_withtruth['mag_err'] = np.abs((2.5/np.log(10.0))*sprinkled_lc_obs_withtruth['flux_err']/sprinkled_lc_obs_withtruth['flux'])"
   ]
  },
  {
   "cell_type": "code",
   "execution_count": 6,
   "metadata": {},
   "outputs": [
    {
     "data": {
      "text/plain": [
       "(array([   4.,   13.,   33.,   78.,  231.,  412.,  772., 1044., 1388.,\n",
       "        1486., 1424., 1186.,  924.,  624.,  359.,  165.,   70.,   33.,\n",
       "           7.,    3.]),\n",
       " array([-0.18596474, -0.15563784, -0.12531095, -0.09498405, -0.06465715,\n",
       "        -0.03433025, -0.00400335,  0.02632355,  0.05665044,  0.08697734,\n",
       "         0.11730424,  0.14763114,  0.17795804,  0.20828494,  0.23861184,\n",
       "         0.26893873,  0.29926563,  0.32959253,  0.35991943,  0.39024633,\n",
       "         0.42057323]),\n",
       " <a list of 20 Patch objects>)"
      ]
     },
     "execution_count": 6,
     "metadata": {},
     "output_type": "execute_result"
    },
    {
     "data": {
      "image/png": "[encoded data removed]",
      "text/plain": [
       "<matplotlib.figure.Figure at 0x7fbdb0832b50>"
      ]
     },
     "metadata": {},
     "output_type": "display_data"
    }
   ],
   "source": [
    "plt.hist(noise, bins=20)\n",
    "#plt.hist(sprinkled_lc_obs_withtruth['flux_err'], bins=20)"
   ]
  },
  {
   "cell_type": "code",
   "execution_count": 7,
   "metadata": {},
   "outputs": [],
   "source": [
    "per_filter_mean = sprinkled_lc_obs_withtruth.groupby(['uniqueId', 'filter'], as_index=False)['flux'].mean().copy()\n",
    "per_filter_mean.rename(columns={'flux': 'flux_perband_avg'}, inplace=True)\n",
    "sprinkled_lc_obs_withtruth = pd.merge(sprinkled_lc_obs_withtruth, per_filter_mean, on=['uniqueId', 'filter'])"
   ]
  },
  {
   "cell_type": "code",
   "execution_count": 8,
   "metadata": {},
   "outputs": [],
   "source": [
    "per_lc_mean = sprinkled_lc_obs_withtruth.groupby('uniqueId', as_index=False)['flux'].mean().copy()\n",
    "per_lc_mean.rename(columns={'flux': 'flux_overall_avg'}, inplace=True)\n",
    "sprinkled_lc_obs_withtruth = pd.merge(sprinkled_lc_obs_withtruth, per_lc_mean, on='uniqueId')"
   ]
  },
  {
   "cell_type": "code",
   "execution_count": 9,
   "metadata": {},
   "outputs": [],
   "source": [
    "#joined_with_avg.head(100)\n",
    "sprinkled_lc_obs_withtruth.set_index('uniqueId', inplace=True)\n",
    "sprinkled_lc_obs_withtruth['whitening_offset'] = sprinkled_lc_obs_withtruth['flux_perband_avg'].copy() - sprinkled_lc_obs_withtruth['flux_overall_avg'].copy()\n",
    "sprinkled_lc_obs_withtruth['flux'] -= sprinkled_lc_obs_withtruth['whitening_offset']\n",
    "#sprinkled_lc_obs_withtruth.loc[sprinkled_lc_obs_withtruth['flux'] < 0.0, 'flux'] = 0.0\n",
    "sprinkled_lc_obs_withtruth.reset_index(inplace=True)"
   ]
  },
  {
   "cell_type": "code",
   "execution_count": 10,
   "metadata": {},
   "outputs": [
    {
     "data": {
      "text/plain": [
       "-0.002671658939787024"
      ]
     },
     "execution_count": 10,
     "metadata": {},
     "output_type": "execute_result"
    }
   ],
   "source": [
    "sprinkled_lc_obs_withtruth['flux'].values.min()"
   ]
  },
  {
   "cell_type": "code",
   "execution_count": 11,
   "metadata": {},
   "outputs": [
    {
     "name": "stderr",
     "output_type": "stream",
     "text": [
      "utils/units_utils.py:16: RuntimeWarning: invalid value encountered in log10\n",
      "  return zeropoint_mag-2.5*np.log10(flux)\n"
     ]
    }
   ],
   "source": [
    "# Final conversion to mag (since we altered flux)\n",
    "sprinkled_lc_obs_withtruth['mag'] = units.flux_to_mag(sprinkled_lc_obs_withtruth['flux'], from_unit='nMgy')"
   ]
  },
  {
   "cell_type": "code",
   "execution_count": 12,
   "metadata": {},
   "outputs": [],
   "source": [
    "sprinkled_lc_obs_withtruth.to_csv(\"joined_sprinkled.csv\", index=False)"
   ]
  },
  {
   "cell_type": "code",
   "execution_count": 13,
   "metadata": {},
   "outputs": [
    {
     "data": {
      "text/html": [
       "<div>\n",
       "<style scoped>\n",
       "    .dataframe tbody tr th:only-of-type {\n",
       "        vertical-align: middle;\n",
       "    }\n",
       "\n",
       "    .dataframe tbody tr th {\n",
       "        vertical-align: top;\n",
       "    }\n",
       "\n",
       "    .dataframe thead th {\n",
       "        text-align: right;\n",
       "    }\n",
       "</style>\n",
       "<table border=\"1\" class=\"dataframe\">\n",
       "  <thead>\n",
       "    <tr style=\"text-align: right;\">\n",
       "      <th></th>\n",
       "      <th>uniqueId</th>\n",
       "      <th>obshistid</th>\n",
       "      <th>mag</th>\n",
       "      <th>galaxy_id</th>\n",
       "      <th>ra</th>\n",
       "      <th>dec</th>\n",
       "      <th>redshift</th>\n",
       "      <th>truth_galaxy_id</th>\n",
       "      <th>truth_redshift</th>\n",
       "      <th>magNorm</th>\n",
       "      <th>agn_tau</th>\n",
       "      <th>t0Delay</th>\n",
       "      <th>agn_sfu</th>\n",
       "      <th>agn_sfg</th>\n",
       "      <th>agn_sfr</th>\n",
       "      <th>agn_sfi</th>\n",
       "      <th>agn_sfz</th>\n",
       "      <th>agn_sfy</th>\n",
       "      <th>mjd</th>\n",
       "      <th>filter</th>\n",
       "      <th>fiveSigmaDepth</th>\n",
       "      <th>flux</th>\n",
       "      <th>flux_err</th>\n",
       "      <th>mag_err</th>\n",
       "      <th>flux_perband_avg</th>\n",
       "      <th>flux_overall_avg</th>\n",
       "      <th>whitening_offset</th>\n",
       "    </tr>\n",
       "  </thead>\n",
       "  <tbody>\n",
       "    <tr>\n",
       "      <th>0</th>\n",
       "      <td>338704312844405</td>\n",
       "      <td>230</td>\n",
       "      <td>24.798160</td>\n",
       "      <td>33076593</td>\n",
       "      <td>53.051657</td>\n",
       "      <td>-28.086531</td>\n",
       "      <td>0.62</td>\n",
       "      <td>330765930512</td>\n",
       "      <td>0.62</td>\n",
       "      <td>24.646572</td>\n",
       "      <td>153.8</td>\n",
       "      <td>0.0</td>\n",
       "      <td>0.6818</td>\n",
       "      <td>0.7161</td>\n",
       "      <td>0.703</td>\n",
       "      <td>0.5242</td>\n",
       "      <td>0.447</td>\n",
       "      <td>0.4438</td>\n",
       "      <td>59580.139555</td>\n",
       "      <td>r</td>\n",
       "      <td>24.083783</td>\n",
       "      <td>0.120430</td>\n",
       "      <td>0.001000</td>\n",
       "      <td>0.011799</td>\n",
       "      <td>0.119958</td>\n",
       "      <td>0.148366</td>\n",
       "      <td>-0.028408</td>\n",
       "    </tr>\n",
       "    <tr>\n",
       "      <th>1</th>\n",
       "      <td>338704312844405</td>\n",
       "      <td>181866</td>\n",
       "      <td>24.817073</td>\n",
       "      <td>33076593</td>\n",
       "      <td>53.051657</td>\n",
       "      <td>-28.086531</td>\n",
       "      <td>0.62</td>\n",
       "      <td>330765930512</td>\n",
       "      <td>0.62</td>\n",
       "      <td>24.646572</td>\n",
       "      <td>153.8</td>\n",
       "      <td>0.0</td>\n",
       "      <td>0.6818</td>\n",
       "      <td>0.7161</td>\n",
       "      <td>0.703</td>\n",
       "      <td>0.5242</td>\n",
       "      <td>0.447</td>\n",
       "      <td>0.4438</td>\n",
       "      <td>59821.274782</td>\n",
       "      <td>r</td>\n",
       "      <td>24.149110</td>\n",
       "      <td>0.118351</td>\n",
       "      <td>0.137145</td>\n",
       "      <td>1.655530</td>\n",
       "      <td>0.119958</td>\n",
       "      <td>0.148366</td>\n",
       "      <td>-0.028408</td>\n",
       "    </tr>\n",
       "    <tr>\n",
       "      <th>2</th>\n",
       "      <td>338704312844405</td>\n",
       "      <td>181898</td>\n",
       "      <td>24.817111</td>\n",
       "      <td>33076593</td>\n",
       "      <td>53.051657</td>\n",
       "      <td>-28.086531</td>\n",
       "      <td>0.62</td>\n",
       "      <td>330765930512</td>\n",
       "      <td>0.62</td>\n",
       "      <td>24.646572</td>\n",
       "      <td>153.8</td>\n",
       "      <td>0.0</td>\n",
       "      <td>0.6818</td>\n",
       "      <td>0.7161</td>\n",
       "      <td>0.703</td>\n",
       "      <td>0.5242</td>\n",
       "      <td>0.447</td>\n",
       "      <td>0.4438</td>\n",
       "      <td>59821.289313</td>\n",
       "      <td>r</td>\n",
       "      <td>24.100863</td>\n",
       "      <td>0.118347</td>\n",
       "      <td>0.068321</td>\n",
       "      <td>0.824771</td>\n",
       "      <td>0.119958</td>\n",
       "      <td>0.148366</td>\n",
       "      <td>-0.028408</td>\n",
       "    </tr>\n",
       "    <tr>\n",
       "      <th>3</th>\n",
       "      <td>338704312844405</td>\n",
       "      <td>181900</td>\n",
       "      <td>24.817113</td>\n",
       "      <td>33076593</td>\n",
       "      <td>53.051657</td>\n",
       "      <td>-28.086531</td>\n",
       "      <td>0.62</td>\n",
       "      <td>330765930512</td>\n",
       "      <td>0.62</td>\n",
       "      <td>24.646572</td>\n",
       "      <td>153.8</td>\n",
       "      <td>0.0</td>\n",
       "      <td>0.6818</td>\n",
       "      <td>0.7161</td>\n",
       "      <td>0.703</td>\n",
       "      <td>0.5242</td>\n",
       "      <td>0.447</td>\n",
       "      <td>0.4438</td>\n",
       "      <td>59821.290208</td>\n",
       "      <td>r</td>\n",
       "      <td>24.081562</td>\n",
       "      <td>0.118346</td>\n",
       "      <td>0.109661</td>\n",
       "      <td>1.323825</td>\n",
       "      <td>0.119958</td>\n",
       "      <td>0.148366</td>\n",
       "      <td>-0.028408</td>\n",
       "    </tr>\n",
       "    <tr>\n",
       "      <th>4</th>\n",
       "      <td>338704312844405</td>\n",
       "      <td>181970</td>\n",
       "      <td>24.817197</td>\n",
       "      <td>33076593</td>\n",
       "      <td>53.051657</td>\n",
       "      <td>-28.086531</td>\n",
       "      <td>0.62</td>\n",
       "      <td>330765930512</td>\n",
       "      <td>0.62</td>\n",
       "      <td>24.646572</td>\n",
       "      <td>153.8</td>\n",
       "      <td>0.0</td>\n",
       "      <td>0.6818</td>\n",
       "      <td>0.7161</td>\n",
       "      <td>0.703</td>\n",
       "      <td>0.5242</td>\n",
       "      <td>0.447</td>\n",
       "      <td>0.4438</td>\n",
       "      <td>59821.322524</td>\n",
       "      <td>r</td>\n",
       "      <td>24.036042</td>\n",
       "      <td>0.118337</td>\n",
       "      <td>0.057097</td>\n",
       "      <td>0.689346</td>\n",
       "      <td>0.119958</td>\n",
       "      <td>0.148366</td>\n",
       "      <td>-0.028408</td>\n",
       "    </tr>\n",
       "  </tbody>\n",
       "</table>\n",
       "</div>"
      ],
      "text/plain": [
       "          uniqueId  obshistid        mag  galaxy_id         ra        dec  \\\n",
       "0  338704312844405        230  24.798160   33076593  53.051657 -28.086531   \n",
       "1  338704312844405     181866  24.817073   33076593  53.051657 -28.086531   \n",
       "2  338704312844405     181898  24.817111   33076593  53.051657 -28.086531   \n",
       "3  338704312844405     181900  24.817113   33076593  53.051657 -28.086531   \n",
       "4  338704312844405     181970  24.817197   33076593  53.051657 -28.086531   \n",
       "\n",
       "   redshift  truth_galaxy_id  truth_redshift    magNorm  agn_tau  t0Delay  \\\n",
       "0      0.62     330765930512            0.62  24.646572    153.8      0.0   \n",
       "1      0.62     330765930512            0.62  24.646572    153.8      0.0   \n",
       "2      0.62     330765930512            0.62  24.646572    153.8      0.0   \n",
       "3      0.62     330765930512            0.62  24.646572    153.8      0.0   \n",
       "4      0.62     330765930512            0.62  24.646572    153.8      0.0   \n",
       "\n",
       "   agn_sfu  agn_sfg  agn_sfr  agn_sfi  agn_sfz  agn_sfy           mjd filter  \\\n",
       "0   0.6818   0.7161    0.703   0.5242    0.447   0.4438  59580.139555      r   \n",
       "1   0.6818   0.7161    0.703   0.5242    0.447   0.4438  59821.274782      r   \n",
       "2   0.6818   0.7161    0.703   0.5242    0.447   0.4438  59821.289313      r   \n",
       "3   0.6818   0.7161    0.703   0.5242    0.447   0.4438  59821.290208      r   \n",
       "4   0.6818   0.7161    0.703   0.5242    0.447   0.4438  59821.322524      r   \n",
       "\n",
       "   fiveSigmaDepth      flux  flux_err   mag_err  flux_perband_avg  \\\n",
       "0       24.083783  0.120430  0.001000  0.011799          0.119958   \n",
       "1       24.149110  0.118351  0.137145  1.655530          0.119958   \n",
       "2       24.100863  0.118347  0.068321  0.824771          0.119958   \n",
       "3       24.081562  0.118346  0.109661  1.323825          0.119958   \n",
       "4       24.036042  0.118337  0.057097  0.689346          0.119958   \n",
       "\n",
       "   flux_overall_avg  whitening_offset  \n",
       "0          0.148366         -0.028408  \n",
       "1          0.148366         -0.028408  \n",
       "2          0.148366         -0.028408  \n",
       "3          0.148366         -0.028408  \n",
       "4          0.148366         -0.028408  "
      ]
     },
     "execution_count": 13,
     "metadata": {},
     "output_type": "execute_result"
    }
   ],
   "source": [
    "sprinkled_lc_obs_withtruth.head()"
   ]
  },
  {
   "cell_type": "code",
   "execution_count": null,
   "metadata": {},
   "outputs": [],
   "source": []
  },
  {
   "cell_type": "code",
   "execution_count": null,
   "metadata": {},
   "outputs": [],
   "source": []
  }
 ],
 "metadata": {
  "kernelspec": {
   "display_name": "Python 2",
   "language": "python",
   "name": "python2"
  },
  "language_info": {
   "codemirror_mode": {
    "name": "ipython",
    "version": 2
   },
   "file_extension": ".py",
   "mimetype": "text/x-python",
   "name": "python",
   "nbconvert_exporter": "python",
   "pygments_lexer": "ipython2",
   "version": "2.7.12"
  }
 },
 "nbformat": 4,
 "nbformat_minor": 2
}

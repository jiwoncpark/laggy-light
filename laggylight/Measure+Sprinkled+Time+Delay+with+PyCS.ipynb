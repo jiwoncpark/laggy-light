{
 "cells": [
  {
   "cell_type": "markdown",
   "metadata": {},
   "source": [
    "<!-- ![](./header.png) -->\n",
    "<img src=\"./header.png\",width=100%>"
   ]
  },
  {
   "cell_type": "markdown",
   "metadata": {},
   "source": [
    "# Measuring Time Delays of Sprinkled Lensed Quasar Systems in CosmoDC2 with PyCS\n",
    "\n",
    "*Ji Won Park (jiwoncpark)*\n",
    "\n",
    "Write abstract here."
   ]
  },
  {
   "cell_type": "markdown",
   "metadata": {},
   "source": [
    "Introduction\n",
    "============\n",
    "\n",
    "<Explain what Sprinkler does> <Explain what we want to verify and validate> Sprinkled lensed quasar systems in CosmoDC2, \n",
    "<Say we only analyze a small sample here -- a quad and two doubles>"
   ]
  },
  {
   "cell_type": "markdown",
   "metadata": {},
   "source": [
    "Method\n",
    "======\n",
    "\n",
    "Write about your methods here! Or change the sections to whatever you want!"
   ]
  },
  {
   "cell_type": "code",
   "execution_count": 1,
   "metadata": {},
   "outputs": [],
   "source": [
    "import pycs\n",
    "import os\n",
    "import pandas as pd\n",
    "import numpy as np\n",
    "import matplotlib.pyplot as plt\n",
    "from __future__ import absolute_import, division, print_function\n",
    "%load_ext autoreload\n",
    "%autoreload 2\n",
    "%matplotlib inline"
   ]
  },
  {
   "cell_type": "code",
   "execution_count": null,
   "metadata": {},
   "outputs": [],
   "source": [
    "lcs = [\n",
    "        pycs.gen.lc.rdbimport('quad_pair23A.txt', 'image0', 'mag_0', 'magerr_0', mhjdcolname=\"time\", telescopename=\"quad_pair23A-dimmer(0)\"),\n",
    "        pycs.gen.lc.rdbimport('quad_pair23A.txt', 'image1', 'mag_1', 'magerr_1', mhjdcolname=\"time\", telescopename=\"quad_pair23A-brighter(1)\"),\n",
    "        pycs.gen.lc.rdbimport('quad_pair23B.txt', 'image2', 'mag_0', 'magerr_0', mhjdcolname=\"time\", telescopename=\"quad_pair23B-dimmer(0)\"),\n",
    "        pycs.gen.lc.rdbimport('quad_pair23B.txt', 'image3', 'mag_1', 'magerr_1', mhjdcolname=\"time\", telescopename=\"quad_pair23B-brighter(1)\"),\n",
    "]"
   ]
  },
  {
   "cell_type": "markdown",
   "metadata": {},
   "source": [
    "Results\n",
    "=======\n",
    "\n",
    "Write about your results here! Or don't!"
   ]
  },
  {
   "cell_type": "markdown",
   "metadata": {},
   "source": [
    "Conclusions\n",
    "===========\n",
    "\n",
    "Write about your conclusions here. You have drawn some, right?"
   ]
  }
 ],
 "metadata": {
  "anaconda-cloud": {},
  "kernelspec": {
   "display_name": "Python 2",
   "language": "python",
   "name": "python2"
  },
  "language_info": {
   "codemirror_mode": {
    "name": "ipython",
    "version": 2
   },
   "file_extension": ".py",
   "mimetype": "text/x-python",
   "name": "python",
   "nbconvert_exporter": "python",
   "pygments_lexer": "ipython2",
   "version": "2.7.12"
  }
 },
 "nbformat": 4,
 "nbformat_minor": 1
}
